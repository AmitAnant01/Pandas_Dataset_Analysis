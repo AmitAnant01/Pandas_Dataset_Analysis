{
 "cells": [
  {
   "cell_type": "code",
   "execution_count": 1,
   "id": "a91e2a20-927b-42eb-8ecd-ba45f9c2bdd4",
   "metadata": {},
   "outputs": [],
   "source": [
    "import pandas as pd\n",
    "import numpy as np\n",
    "import matplotlib.pyplot as plt\n"
   ]
  },
  {
   "cell_type": "code",
   "execution_count": 2,
   "id": "5ea2c562-1077-4f2a-b3cb-0d579976d4ba",
   "metadata": {},
   "outputs": [],
   "source": [
    "data = ({\n",
    "    \"Company\": [\"Amazon\",'Microsoft','Flipkart','Accenture','Google','HCL','Wipro','Infosys','Apple','TCS'],\n",
    "    'Employee': ['Rohan','Sohan','Saurabh','Ayan','Anjali','Sonu','Harsh','Roshani','Deva','Shyam'],\n",
    "    'Lucation': ['Mumbai','Delhi','Banglore','karnatka','Noida','Mumbai','Banglore','Gurugram','Faridabaad','Delhi'],\n",
    "    'Salary' : [120000,90000,78000,82000,65000,78000,70000,67000,110000,72000], \n",
    "    'Company_join': [2019,2015,2013,2023,2025,2012,2022,2024,2017,2020]\n",
    "})\n",
    "df = pd.DataFrame(data)\n"
   ]
  },
  {
   "cell_type": "code",
   "execution_count": 3,
   "id": "edc82f33-496c-4e5f-953b-96503cc1ca13",
   "metadata": {},
   "outputs": [
    {
     "data": {
      "text/html": [
       "<div>\n",
       "<style scoped>\n",
       "    .dataframe tbody tr th:only-of-type {\n",
       "        vertical-align: middle;\n",
       "    }\n",
       "\n",
       "    .dataframe tbody tr th {\n",
       "        vertical-align: top;\n",
       "    }\n",
       "\n",
       "    .dataframe thead th {\n",
       "        text-align: right;\n",
       "    }\n",
       "</style>\n",
       "<table border=\"1\" class=\"dataframe\">\n",
       "  <thead>\n",
       "    <tr style=\"text-align: right;\">\n",
       "      <th></th>\n",
       "      <th>Company</th>\n",
       "      <th>Employee</th>\n",
       "      <th>Lucation</th>\n",
       "      <th>Salary</th>\n",
       "      <th>Company_join</th>\n",
       "    </tr>\n",
       "  </thead>\n",
       "  <tbody>\n",
       "    <tr>\n",
       "      <th>0</th>\n",
       "      <td>Amazon</td>\n",
       "      <td>Rohan</td>\n",
       "      <td>Mumbai</td>\n",
       "      <td>120000</td>\n",
       "      <td>2019</td>\n",
       "    </tr>\n",
       "    <tr>\n",
       "      <th>1</th>\n",
       "      <td>Microsoft</td>\n",
       "      <td>Sohan</td>\n",
       "      <td>Delhi</td>\n",
       "      <td>90000</td>\n",
       "      <td>2015</td>\n",
       "    </tr>\n",
       "    <tr>\n",
       "      <th>2</th>\n",
       "      <td>Flipkart</td>\n",
       "      <td>Saurabh</td>\n",
       "      <td>Banglore</td>\n",
       "      <td>78000</td>\n",
       "      <td>2013</td>\n",
       "    </tr>\n",
       "    <tr>\n",
       "      <th>3</th>\n",
       "      <td>Accenture</td>\n",
       "      <td>Ayan</td>\n",
       "      <td>karnatka</td>\n",
       "      <td>82000</td>\n",
       "      <td>2023</td>\n",
       "    </tr>\n",
       "    <tr>\n",
       "      <th>4</th>\n",
       "      <td>Google</td>\n",
       "      <td>Anjali</td>\n",
       "      <td>Noida</td>\n",
       "      <td>65000</td>\n",
       "      <td>2025</td>\n",
       "    </tr>\n",
       "    <tr>\n",
       "      <th>5</th>\n",
       "      <td>HCL</td>\n",
       "      <td>Sonu</td>\n",
       "      <td>Mumbai</td>\n",
       "      <td>78000</td>\n",
       "      <td>2012</td>\n",
       "    </tr>\n",
       "    <tr>\n",
       "      <th>6</th>\n",
       "      <td>Wipro</td>\n",
       "      <td>Harsh</td>\n",
       "      <td>Banglore</td>\n",
       "      <td>70000</td>\n",
       "      <td>2022</td>\n",
       "    </tr>\n",
       "    <tr>\n",
       "      <th>7</th>\n",
       "      <td>Infosys</td>\n",
       "      <td>Roshani</td>\n",
       "      <td>Gurugram</td>\n",
       "      <td>67000</td>\n",
       "      <td>2024</td>\n",
       "    </tr>\n",
       "    <tr>\n",
       "      <th>8</th>\n",
       "      <td>Apple</td>\n",
       "      <td>Deva</td>\n",
       "      <td>Faridabaad</td>\n",
       "      <td>110000</td>\n",
       "      <td>2017</td>\n",
       "    </tr>\n",
       "    <tr>\n",
       "      <th>9</th>\n",
       "      <td>TCS</td>\n",
       "      <td>Shyam</td>\n",
       "      <td>Delhi</td>\n",
       "      <td>72000</td>\n",
       "      <td>2020</td>\n",
       "    </tr>\n",
       "  </tbody>\n",
       "</table>\n",
       "</div>"
      ],
      "text/plain": [
       "     Company Employee    Lucation  Salary  Company_join\n",
       "0     Amazon    Rohan      Mumbai  120000          2019\n",
       "1  Microsoft    Sohan       Delhi   90000          2015\n",
       "2   Flipkart  Saurabh    Banglore   78000          2013\n",
       "3  Accenture     Ayan    karnatka   82000          2023\n",
       "4     Google   Anjali       Noida   65000          2025\n",
       "5        HCL     Sonu      Mumbai   78000          2012\n",
       "6      Wipro    Harsh    Banglore   70000          2022\n",
       "7    Infosys  Roshani    Gurugram   67000          2024\n",
       "8      Apple     Deva  Faridabaad  110000          2017\n",
       "9        TCS    Shyam       Delhi   72000          2020"
      ]
     },
     "execution_count": 3,
     "metadata": {},
     "output_type": "execute_result"
    }
   ],
   "source": [
    "df"
   ]
  },
  {
   "cell_type": "code",
   "execution_count": 4,
   "id": "0eec0576-e8c6-411d-825f-c2d2d36dbb79",
   "metadata": {},
   "outputs": [
    {
     "data": {
      "text/html": [
       "<div>\n",
       "<style scoped>\n",
       "    .dataframe tbody tr th:only-of-type {\n",
       "        vertical-align: middle;\n",
       "    }\n",
       "\n",
       "    .dataframe tbody tr th {\n",
       "        vertical-align: top;\n",
       "    }\n",
       "\n",
       "    .dataframe thead th {\n",
       "        text-align: right;\n",
       "    }\n",
       "</style>\n",
       "<table border=\"1\" class=\"dataframe\">\n",
       "  <thead>\n",
       "    <tr style=\"text-align: right;\">\n",
       "      <th></th>\n",
       "      <th>Company</th>\n",
       "      <th>Employee</th>\n",
       "      <th>Lucation</th>\n",
       "      <th>Salary</th>\n",
       "      <th>Company_join</th>\n",
       "    </tr>\n",
       "  </thead>\n",
       "  <tbody>\n",
       "    <tr>\n",
       "      <th>0</th>\n",
       "      <td>Amazon</td>\n",
       "      <td>Rohan</td>\n",
       "      <td>Mumbai</td>\n",
       "      <td>120000</td>\n",
       "      <td>2019</td>\n",
       "    </tr>\n",
       "    <tr>\n",
       "      <th>1</th>\n",
       "      <td>Microsoft</td>\n",
       "      <td>Sohan</td>\n",
       "      <td>Delhi</td>\n",
       "      <td>90000</td>\n",
       "      <td>2015</td>\n",
       "    </tr>\n",
       "    <tr>\n",
       "      <th>2</th>\n",
       "      <td>Flipkart</td>\n",
       "      <td>Saurabh</td>\n",
       "      <td>Banglore</td>\n",
       "      <td>78000</td>\n",
       "      <td>2013</td>\n",
       "    </tr>\n",
       "    <tr>\n",
       "      <th>3</th>\n",
       "      <td>Accenture</td>\n",
       "      <td>Ayan</td>\n",
       "      <td>karnatka</td>\n",
       "      <td>82000</td>\n",
       "      <td>2023</td>\n",
       "    </tr>\n",
       "    <tr>\n",
       "      <th>4</th>\n",
       "      <td>Google</td>\n",
       "      <td>Anjali</td>\n",
       "      <td>Noida</td>\n",
       "      <td>65000</td>\n",
       "      <td>2025</td>\n",
       "    </tr>\n",
       "  </tbody>\n",
       "</table>\n",
       "</div>"
      ],
      "text/plain": [
       "     Company Employee  Lucation  Salary  Company_join\n",
       "0     Amazon    Rohan    Mumbai  120000          2019\n",
       "1  Microsoft    Sohan     Delhi   90000          2015\n",
       "2   Flipkart  Saurabh  Banglore   78000          2013\n",
       "3  Accenture     Ayan  karnatka   82000          2023\n",
       "4     Google   Anjali     Noida   65000          2025"
      ]
     },
     "execution_count": 4,
     "metadata": {},
     "output_type": "execute_result"
    }
   ],
   "source": [
    "df.head()"
   ]
  },
  {
   "cell_type": "code",
   "execution_count": 5,
   "id": "2a641282-71a4-407c-b1f0-d9e7385c6b5e",
   "metadata": {},
   "outputs": [
    {
     "data": {
      "text/html": [
       "<div>\n",
       "<style scoped>\n",
       "    .dataframe tbody tr th:only-of-type {\n",
       "        vertical-align: middle;\n",
       "    }\n",
       "\n",
       "    .dataframe tbody tr th {\n",
       "        vertical-align: top;\n",
       "    }\n",
       "\n",
       "    .dataframe thead th {\n",
       "        text-align: right;\n",
       "    }\n",
       "</style>\n",
       "<table border=\"1\" class=\"dataframe\">\n",
       "  <thead>\n",
       "    <tr style=\"text-align: right;\">\n",
       "      <th></th>\n",
       "      <th>Company</th>\n",
       "      <th>Employee</th>\n",
       "      <th>Lucation</th>\n",
       "      <th>Salary</th>\n",
       "      <th>Company_join</th>\n",
       "    </tr>\n",
       "  </thead>\n",
       "  <tbody>\n",
       "    <tr>\n",
       "      <th>5</th>\n",
       "      <td>HCL</td>\n",
       "      <td>Sonu</td>\n",
       "      <td>Mumbai</td>\n",
       "      <td>78000</td>\n",
       "      <td>2012</td>\n",
       "    </tr>\n",
       "    <tr>\n",
       "      <th>6</th>\n",
       "      <td>Wipro</td>\n",
       "      <td>Harsh</td>\n",
       "      <td>Banglore</td>\n",
       "      <td>70000</td>\n",
       "      <td>2022</td>\n",
       "    </tr>\n",
       "    <tr>\n",
       "      <th>7</th>\n",
       "      <td>Infosys</td>\n",
       "      <td>Roshani</td>\n",
       "      <td>Gurugram</td>\n",
       "      <td>67000</td>\n",
       "      <td>2024</td>\n",
       "    </tr>\n",
       "    <tr>\n",
       "      <th>8</th>\n",
       "      <td>Apple</td>\n",
       "      <td>Deva</td>\n",
       "      <td>Faridabaad</td>\n",
       "      <td>110000</td>\n",
       "      <td>2017</td>\n",
       "    </tr>\n",
       "    <tr>\n",
       "      <th>9</th>\n",
       "      <td>TCS</td>\n",
       "      <td>Shyam</td>\n",
       "      <td>Delhi</td>\n",
       "      <td>72000</td>\n",
       "      <td>2020</td>\n",
       "    </tr>\n",
       "  </tbody>\n",
       "</table>\n",
       "</div>"
      ],
      "text/plain": [
       "   Company Employee    Lucation  Salary  Company_join\n",
       "5      HCL     Sonu      Mumbai   78000          2012\n",
       "6    Wipro    Harsh    Banglore   70000          2022\n",
       "7  Infosys  Roshani    Gurugram   67000          2024\n",
       "8    Apple     Deva  Faridabaad  110000          2017\n",
       "9      TCS    Shyam       Delhi   72000          2020"
      ]
     },
     "execution_count": 5,
     "metadata": {},
     "output_type": "execute_result"
    }
   ],
   "source": [
    "df.tail()"
   ]
  },
  {
   "cell_type": "code",
   "execution_count": 6,
   "id": "0faec971-5744-4932-bc8f-cf4efdeeb4d0",
   "metadata": {},
   "outputs": [
    {
     "data": {
      "text/plain": [
       "Index(['Company', 'Employee', 'Lucation', 'Salary', 'Company_join'], dtype='object')"
      ]
     },
     "execution_count": 6,
     "metadata": {},
     "output_type": "execute_result"
    }
   ],
   "source": [
    "df.columns"
   ]
  },
  {
   "cell_type": "code",
   "execution_count": 7,
   "id": "ef3abb04-02da-4db6-be72-dd6d2b8c682e",
   "metadata": {},
   "outputs": [
    {
     "data": {
      "text/plain": [
       "RangeIndex(start=0, stop=10, step=1)"
      ]
     },
     "execution_count": 7,
     "metadata": {},
     "output_type": "execute_result"
    }
   ],
   "source": [
    "df.index"
   ]
  },
  {
   "cell_type": "code",
   "execution_count": 8,
   "id": "614aeb72-1fe9-4a8e-be73-363440e83de9",
   "metadata": {},
   "outputs": [
    {
     "data": {
      "text/html": [
       "<div>\n",
       "<style scoped>\n",
       "    .dataframe tbody tr th:only-of-type {\n",
       "        vertical-align: middle;\n",
       "    }\n",
       "\n",
       "    .dataframe tbody tr th {\n",
       "        vertical-align: top;\n",
       "    }\n",
       "\n",
       "    .dataframe thead th {\n",
       "        text-align: right;\n",
       "    }\n",
       "</style>\n",
       "<table border=\"1\" class=\"dataframe\">\n",
       "  <thead>\n",
       "    <tr style=\"text-align: right;\">\n",
       "      <th></th>\n",
       "      <th>Salary</th>\n",
       "      <th>Company_join</th>\n",
       "    </tr>\n",
       "  </thead>\n",
       "  <tbody>\n",
       "    <tr>\n",
       "      <th>count</th>\n",
       "      <td>10.000000</td>\n",
       "      <td>10.000000</td>\n",
       "    </tr>\n",
       "    <tr>\n",
       "      <th>mean</th>\n",
       "      <td>83200.000000</td>\n",
       "      <td>2019.000000</td>\n",
       "    </tr>\n",
       "    <tr>\n",
       "      <th>std</th>\n",
       "      <td>18461.972929</td>\n",
       "      <td>4.618802</td>\n",
       "    </tr>\n",
       "    <tr>\n",
       "      <th>min</th>\n",
       "      <td>65000.000000</td>\n",
       "      <td>2012.000000</td>\n",
       "    </tr>\n",
       "    <tr>\n",
       "      <th>25%</th>\n",
       "      <td>70500.000000</td>\n",
       "      <td>2015.500000</td>\n",
       "    </tr>\n",
       "    <tr>\n",
       "      <th>50%</th>\n",
       "      <td>78000.000000</td>\n",
       "      <td>2019.500000</td>\n",
       "    </tr>\n",
       "    <tr>\n",
       "      <th>75%</th>\n",
       "      <td>88000.000000</td>\n",
       "      <td>2022.750000</td>\n",
       "    </tr>\n",
       "    <tr>\n",
       "      <th>max</th>\n",
       "      <td>120000.000000</td>\n",
       "      <td>2025.000000</td>\n",
       "    </tr>\n",
       "  </tbody>\n",
       "</table>\n",
       "</div>"
      ],
      "text/plain": [
       "              Salary  Company_join\n",
       "count      10.000000     10.000000\n",
       "mean    83200.000000   2019.000000\n",
       "std     18461.972929      4.618802\n",
       "min     65000.000000   2012.000000\n",
       "25%     70500.000000   2015.500000\n",
       "50%     78000.000000   2019.500000\n",
       "75%     88000.000000   2022.750000\n",
       "max    120000.000000   2025.000000"
      ]
     },
     "execution_count": 8,
     "metadata": {},
     "output_type": "execute_result"
    }
   ],
   "source": [
    "df.describe()\n",
    "# This including the whole description of the data with the mean ,mode, median ,std, min max and more............."
   ]
  },
  {
   "cell_type": "code",
   "execution_count": 9,
   "id": "30c1e7ea-0c8f-452e-b19f-173ff5323ada",
   "metadata": {},
   "outputs": [
    {
     "data": {
      "text/plain": [
       "<bound method NDFrame.describe of      Company Employee    Lucation  Salary  Company_join\n",
       "0     Amazon    Rohan      Mumbai  120000          2019\n",
       "1  Microsoft    Sohan       Delhi   90000          2015\n",
       "2   Flipkart  Saurabh    Banglore   78000          2013\n",
       "3  Accenture     Ayan    karnatka   82000          2023\n",
       "4     Google   Anjali       Noida   65000          2025\n",
       "5        HCL     Sonu      Mumbai   78000          2012\n",
       "6      Wipro    Harsh    Banglore   70000          2022\n",
       "7    Infosys  Roshani    Gurugram   67000          2024\n",
       "8      Apple     Deva  Faridabaad  110000          2017\n",
       "9        TCS    Shyam       Delhi   72000          2020>"
      ]
     },
     "execution_count": 9,
     "metadata": {},
     "output_type": "execute_result"
    }
   ],
   "source": [
    "df.describe"
   ]
  },
  {
   "cell_type": "code",
   "execution_count": 10,
   "id": "0ec40a85-1ee4-4d0a-9058-ed40e48a6b73",
   "metadata": {},
   "outputs": [
    {
     "data": {
      "text/html": [
       "<div>\n",
       "<style scoped>\n",
       "    .dataframe tbody tr th:only-of-type {\n",
       "        vertical-align: middle;\n",
       "    }\n",
       "\n",
       "    .dataframe tbody tr th {\n",
       "        vertical-align: top;\n",
       "    }\n",
       "\n",
       "    .dataframe thead th {\n",
       "        text-align: right;\n",
       "    }\n",
       "</style>\n",
       "<table border=\"1\" class=\"dataframe\">\n",
       "  <thead>\n",
       "    <tr style=\"text-align: right;\">\n",
       "      <th></th>\n",
       "      <th>Company</th>\n",
       "      <th>Employee</th>\n",
       "      <th>Lucation</th>\n",
       "      <th>Salary</th>\n",
       "      <th>Company_join</th>\n",
       "    </tr>\n",
       "  </thead>\n",
       "  <tbody>\n",
       "    <tr>\n",
       "      <th>0</th>\n",
       "      <td>False</td>\n",
       "      <td>False</td>\n",
       "      <td>False</td>\n",
       "      <td>False</td>\n",
       "      <td>False</td>\n",
       "    </tr>\n",
       "    <tr>\n",
       "      <th>1</th>\n",
       "      <td>False</td>\n",
       "      <td>False</td>\n",
       "      <td>False</td>\n",
       "      <td>False</td>\n",
       "      <td>False</td>\n",
       "    </tr>\n",
       "    <tr>\n",
       "      <th>2</th>\n",
       "      <td>False</td>\n",
       "      <td>False</td>\n",
       "      <td>False</td>\n",
       "      <td>False</td>\n",
       "      <td>False</td>\n",
       "    </tr>\n",
       "    <tr>\n",
       "      <th>3</th>\n",
       "      <td>False</td>\n",
       "      <td>False</td>\n",
       "      <td>False</td>\n",
       "      <td>False</td>\n",
       "      <td>False</td>\n",
       "    </tr>\n",
       "    <tr>\n",
       "      <th>4</th>\n",
       "      <td>False</td>\n",
       "      <td>False</td>\n",
       "      <td>False</td>\n",
       "      <td>False</td>\n",
       "      <td>False</td>\n",
       "    </tr>\n",
       "    <tr>\n",
       "      <th>5</th>\n",
       "      <td>False</td>\n",
       "      <td>False</td>\n",
       "      <td>False</td>\n",
       "      <td>False</td>\n",
       "      <td>False</td>\n",
       "    </tr>\n",
       "    <tr>\n",
       "      <th>6</th>\n",
       "      <td>False</td>\n",
       "      <td>False</td>\n",
       "      <td>False</td>\n",
       "      <td>False</td>\n",
       "      <td>False</td>\n",
       "    </tr>\n",
       "    <tr>\n",
       "      <th>7</th>\n",
       "      <td>False</td>\n",
       "      <td>False</td>\n",
       "      <td>False</td>\n",
       "      <td>False</td>\n",
       "      <td>False</td>\n",
       "    </tr>\n",
       "    <tr>\n",
       "      <th>8</th>\n",
       "      <td>False</td>\n",
       "      <td>False</td>\n",
       "      <td>False</td>\n",
       "      <td>False</td>\n",
       "      <td>False</td>\n",
       "    </tr>\n",
       "    <tr>\n",
       "      <th>9</th>\n",
       "      <td>False</td>\n",
       "      <td>False</td>\n",
       "      <td>False</td>\n",
       "      <td>False</td>\n",
       "      <td>False</td>\n",
       "    </tr>\n",
       "  </tbody>\n",
       "</table>\n",
       "</div>"
      ],
      "text/plain": [
       "   Company  Employee  Lucation  Salary  Company_join\n",
       "0    False     False     False   False         False\n",
       "1    False     False     False   False         False\n",
       "2    False     False     False   False         False\n",
       "3    False     False     False   False         False\n",
       "4    False     False     False   False         False\n",
       "5    False     False     False   False         False\n",
       "6    False     False     False   False         False\n",
       "7    False     False     False   False         False\n",
       "8    False     False     False   False         False\n",
       "9    False     False     False   False         False"
      ]
     },
     "execution_count": 10,
     "metadata": {},
     "output_type": "execute_result"
    }
   ],
   "source": [
    "df.isnull()\n",
    "# As you can sure here there is no any ofthe null values inside the dataFrame"
   ]
  },
  {
   "cell_type": "code",
   "execution_count": 11,
   "id": "4892677d-33c5-4a12-aeae-6fa769463b34",
   "metadata": {},
   "outputs": [
    {
     "data": {
      "text/plain": [
       "<pandas.core.indexing._iLocIndexer at 0x1867ef84960>"
      ]
     },
     "execution_count": 11,
     "metadata": {},
     "output_type": "execute_result"
    }
   ],
   "source": [
    "df.iloc()"
   ]
  },
  {
   "cell_type": "code",
   "execution_count": 12,
   "id": "276c2376-02e1-46d2-8b4c-e7a55efa13c7",
   "metadata": {},
   "outputs": [
    {
     "data": {
      "text/plain": [
       "'Amazon'"
      ]
     },
     "execution_count": 12,
     "metadata": {},
     "output_type": "execute_result"
    }
   ],
   "source": [
    "df.iloc[0,0]"
   ]
  },
  {
   "cell_type": "code",
   "execution_count": 13,
   "id": "d8ef31e5-4ed2-43f9-8bfe-c16b1c5dde3e",
   "metadata": {},
   "outputs": [
    {
     "data": {
      "text/plain": [
       "'Mumbai'"
      ]
     },
     "execution_count": 13,
     "metadata": {},
     "output_type": "execute_result"
    }
   ],
   "source": [
    "df.iloc[0,2]"
   ]
  },
  {
   "cell_type": "code",
   "execution_count": 14,
   "id": "5d2954c5-7d6c-4e78-a5c7-b23cd22b0d86",
   "metadata": {},
   "outputs": [
    {
     "data": {
      "text/plain": [
       "67000"
      ]
     },
     "execution_count": 14,
     "metadata": {},
     "output_type": "execute_result"
    }
   ],
   "source": [
    "df.iloc[7,3]"
   ]
  },
  {
   "cell_type": "code",
   "execution_count": 15,
   "id": "9fdefa9e-1741-409c-b729-52d715169e7b",
   "metadata": {},
   "outputs": [
    {
     "data": {
      "text/plain": [
       "<bound method NDFrame.sample of      Company Employee    Lucation  Salary  Company_join\n",
       "0     Amazon    Rohan      Mumbai  120000          2019\n",
       "1  Microsoft    Sohan       Delhi   90000          2015\n",
       "2   Flipkart  Saurabh    Banglore   78000          2013\n",
       "3  Accenture     Ayan    karnatka   82000          2023\n",
       "4     Google   Anjali       Noida   65000          2025\n",
       "5        HCL     Sonu      Mumbai   78000          2012\n",
       "6      Wipro    Harsh    Banglore   70000          2022\n",
       "7    Infosys  Roshani    Gurugram   67000          2024\n",
       "8      Apple     Deva  Faridabaad  110000          2017\n",
       "9        TCS    Shyam       Delhi   72000          2020>"
      ]
     },
     "execution_count": 15,
     "metadata": {},
     "output_type": "execute_result"
    }
   ],
   "source": [
    "df.sample\n",
    "# This is Sample of the data "
   ]
  },
  {
   "cell_type": "code",
   "execution_count": 16,
   "id": "b5050afc-fcb4-4aec-ad11-904c2a3a397f",
   "metadata": {},
   "outputs": [
    {
     "data": {
      "text/html": [
       "<div>\n",
       "<style scoped>\n",
       "    .dataframe tbody tr th:only-of-type {\n",
       "        vertical-align: middle;\n",
       "    }\n",
       "\n",
       "    .dataframe tbody tr th {\n",
       "        vertical-align: top;\n",
       "    }\n",
       "\n",
       "    .dataframe thead th {\n",
       "        text-align: right;\n",
       "    }\n",
       "</style>\n",
       "<table border=\"1\" class=\"dataframe\">\n",
       "  <thead>\n",
       "    <tr style=\"text-align: right;\">\n",
       "      <th></th>\n",
       "      <th>Company</th>\n",
       "      <th>Employee</th>\n",
       "      <th>Lucation</th>\n",
       "      <th>Salary</th>\n",
       "      <th>Company_join</th>\n",
       "    </tr>\n",
       "  </thead>\n",
       "  <tbody>\n",
       "    <tr>\n",
       "      <th>0</th>\n",
       "      <td>Amazon</td>\n",
       "      <td>Rohan</td>\n",
       "      <td>Mumbai</td>\n",
       "      <td>120000</td>\n",
       "      <td>2019</td>\n",
       "    </tr>\n",
       "    <tr>\n",
       "      <th>1</th>\n",
       "      <td>Microsoft</td>\n",
       "      <td>Sohan</td>\n",
       "      <td>Delhi</td>\n",
       "      <td>90000</td>\n",
       "      <td>2015</td>\n",
       "    </tr>\n",
       "    <tr>\n",
       "      <th>2</th>\n",
       "      <td>Flipkart</td>\n",
       "      <td>Saurabh</td>\n",
       "      <td>Banglore</td>\n",
       "      <td>78000</td>\n",
       "      <td>2013</td>\n",
       "    </tr>\n",
       "    <tr>\n",
       "      <th>3</th>\n",
       "      <td>Accenture</td>\n",
       "      <td>Ayan</td>\n",
       "      <td>karnatka</td>\n",
       "      <td>82000</td>\n",
       "      <td>2023</td>\n",
       "    </tr>\n",
       "    <tr>\n",
       "      <th>4</th>\n",
       "      <td>Google</td>\n",
       "      <td>Anjali</td>\n",
       "      <td>Noida</td>\n",
       "      <td>65000</td>\n",
       "      <td>2025</td>\n",
       "    </tr>\n",
       "    <tr>\n",
       "      <th>5</th>\n",
       "      <td>HCL</td>\n",
       "      <td>Sonu</td>\n",
       "      <td>Mumbai</td>\n",
       "      <td>78000</td>\n",
       "      <td>2012</td>\n",
       "    </tr>\n",
       "    <tr>\n",
       "      <th>6</th>\n",
       "      <td>Wipro</td>\n",
       "      <td>Harsh</td>\n",
       "      <td>Banglore</td>\n",
       "      <td>70000</td>\n",
       "      <td>2022</td>\n",
       "    </tr>\n",
       "    <tr>\n",
       "      <th>7</th>\n",
       "      <td>Infosys</td>\n",
       "      <td>Roshani</td>\n",
       "      <td>Gurugram</td>\n",
       "      <td>67000</td>\n",
       "      <td>2024</td>\n",
       "    </tr>\n",
       "    <tr>\n",
       "      <th>8</th>\n",
       "      <td>Apple</td>\n",
       "      <td>Deva</td>\n",
       "      <td>Faridabaad</td>\n",
       "      <td>110000</td>\n",
       "      <td>2017</td>\n",
       "    </tr>\n",
       "    <tr>\n",
       "      <th>9</th>\n",
       "      <td>TCS</td>\n",
       "      <td>Shyam</td>\n",
       "      <td>Delhi</td>\n",
       "      <td>72000</td>\n",
       "      <td>2020</td>\n",
       "    </tr>\n",
       "  </tbody>\n",
       "</table>\n",
       "</div>"
      ],
      "text/plain": [
       "     Company Employee    Lucation  Salary  Company_join\n",
       "0     Amazon    Rohan      Mumbai  120000          2019\n",
       "1  Microsoft    Sohan       Delhi   90000          2015\n",
       "2   Flipkart  Saurabh    Banglore   78000          2013\n",
       "3  Accenture     Ayan    karnatka   82000          2023\n",
       "4     Google   Anjali       Noida   65000          2025\n",
       "5        HCL     Sonu      Mumbai   78000          2012\n",
       "6      Wipro    Harsh    Banglore   70000          2022\n",
       "7    Infosys  Roshani    Gurugram   67000          2024\n",
       "8      Apple     Deva  Faridabaad  110000          2017\n",
       "9        TCS    Shyam       Delhi   72000          2020"
      ]
     },
     "execution_count": 16,
     "metadata": {},
     "output_type": "execute_result"
    }
   ],
   "source": [
    "df"
   ]
  },
  {
   "cell_type": "code",
   "execution_count": 17,
   "id": "74d3ab7e-dbf7-4fda-bd1e-0d65a5958178",
   "metadata": {},
   "outputs": [],
   "source": [
    "# Printing the particular column from our DataFrame\n",
    "new_dataset = df[['Salary' , 'Company_join']]"
   ]
  },
  {
   "cell_type": "code",
   "execution_count": 18,
   "id": "a94179d0-1896-4a27-8dfb-7ba3a3467ba4",
   "metadata": {},
   "outputs": [
    {
     "data": {
      "text/html": [
       "<div>\n",
       "<style scoped>\n",
       "    .dataframe tbody tr th:only-of-type {\n",
       "        vertical-align: middle;\n",
       "    }\n",
       "\n",
       "    .dataframe tbody tr th {\n",
       "        vertical-align: top;\n",
       "    }\n",
       "\n",
       "    .dataframe thead th {\n",
       "        text-align: right;\n",
       "    }\n",
       "</style>\n",
       "<table border=\"1\" class=\"dataframe\">\n",
       "  <thead>\n",
       "    <tr style=\"text-align: right;\">\n",
       "      <th></th>\n",
       "      <th>Salary</th>\n",
       "      <th>Company_join</th>\n",
       "    </tr>\n",
       "  </thead>\n",
       "  <tbody>\n",
       "    <tr>\n",
       "      <th>0</th>\n",
       "      <td>120000</td>\n",
       "      <td>2019</td>\n",
       "    </tr>\n",
       "    <tr>\n",
       "      <th>1</th>\n",
       "      <td>90000</td>\n",
       "      <td>2015</td>\n",
       "    </tr>\n",
       "    <tr>\n",
       "      <th>2</th>\n",
       "      <td>78000</td>\n",
       "      <td>2013</td>\n",
       "    </tr>\n",
       "    <tr>\n",
       "      <th>3</th>\n",
       "      <td>82000</td>\n",
       "      <td>2023</td>\n",
       "    </tr>\n",
       "    <tr>\n",
       "      <th>4</th>\n",
       "      <td>65000</td>\n",
       "      <td>2025</td>\n",
       "    </tr>\n",
       "    <tr>\n",
       "      <th>5</th>\n",
       "      <td>78000</td>\n",
       "      <td>2012</td>\n",
       "    </tr>\n",
       "    <tr>\n",
       "      <th>6</th>\n",
       "      <td>70000</td>\n",
       "      <td>2022</td>\n",
       "    </tr>\n",
       "    <tr>\n",
       "      <th>7</th>\n",
       "      <td>67000</td>\n",
       "      <td>2024</td>\n",
       "    </tr>\n",
       "    <tr>\n",
       "      <th>8</th>\n",
       "      <td>110000</td>\n",
       "      <td>2017</td>\n",
       "    </tr>\n",
       "    <tr>\n",
       "      <th>9</th>\n",
       "      <td>72000</td>\n",
       "      <td>2020</td>\n",
       "    </tr>\n",
       "  </tbody>\n",
       "</table>\n",
       "</div>"
      ],
      "text/plain": [
       "   Salary  Company_join\n",
       "0  120000          2019\n",
       "1   90000          2015\n",
       "2   78000          2013\n",
       "3   82000          2023\n",
       "4   65000          2025\n",
       "5   78000          2012\n",
       "6   70000          2022\n",
       "7   67000          2024\n",
       "8  110000          2017\n",
       "9   72000          2020"
      ]
     },
     "execution_count": 18,
     "metadata": {},
     "output_type": "execute_result"
    }
   ],
   "source": [
    "new_dataset"
   ]
  },
  {
   "cell_type": "code",
   "execution_count": 19,
   "id": "fedaa0ff-e5b1-42ae-963e-600e3190bec8",
   "metadata": {},
   "outputs": [
    {
     "data": {
      "text/plain": [
       "'Rohan'"
      ]
     },
     "execution_count": 19,
     "metadata": {},
     "output_type": "execute_result"
    }
   ],
   "source": [
    "# using the index and column name to find the employee name\n",
    "df.loc[0,'Employee']"
   ]
  },
  {
   "cell_type": "code",
   "execution_count": 20,
   "id": "7be47768-0932-4540-a031-447127270e7c",
   "metadata": {},
   "outputs": [
    {
     "data": {
      "text/plain": [
       "78000"
      ]
     },
     "execution_count": 20,
     "metadata": {},
     "output_type": "execute_result"
    }
   ],
   "source": [
    "df.loc[5,'Salary']"
   ]
  },
  {
   "cell_type": "code",
   "execution_count": 21,
   "id": "535896aa-6849-4d7d-8a4e-2ec49cdc3b59",
   "metadata": {},
   "outputs": [
    {
     "data": {
      "text/html": [
       "<div>\n",
       "<style scoped>\n",
       "    .dataframe tbody tr th:only-of-type {\n",
       "        vertical-align: middle;\n",
       "    }\n",
       "\n",
       "    .dataframe tbody tr th {\n",
       "        vertical-align: top;\n",
       "    }\n",
       "\n",
       "    .dataframe thead th {\n",
       "        text-align: right;\n",
       "    }\n",
       "</style>\n",
       "<table border=\"1\" class=\"dataframe\">\n",
       "  <thead>\n",
       "    <tr style=\"text-align: right;\">\n",
       "      <th></th>\n",
       "      <th>Company</th>\n",
       "      <th>Employee</th>\n",
       "      <th>Lucation</th>\n",
       "      <th>Salary</th>\n",
       "      <th>Company_join</th>\n",
       "    </tr>\n",
       "  </thead>\n",
       "  <tbody>\n",
       "    <tr>\n",
       "      <th>0</th>\n",
       "      <td>Amazon</td>\n",
       "      <td>Rohan</td>\n",
       "      <td>Mumbai</td>\n",
       "      <td>120000</td>\n",
       "      <td>2019</td>\n",
       "    </tr>\n",
       "    <tr>\n",
       "      <th>8</th>\n",
       "      <td>Apple</td>\n",
       "      <td>Deva</td>\n",
       "      <td>Faridabaad</td>\n",
       "      <td>110000</td>\n",
       "      <td>2017</td>\n",
       "    </tr>\n",
       "  </tbody>\n",
       "</table>\n",
       "</div>"
      ],
      "text/plain": [
       "  Company Employee    Lucation  Salary  Company_join\n",
       "0  Amazon    Rohan      Mumbai  120000          2019\n",
       "8   Apple     Deva  Faridabaad  110000          2017"
      ]
     },
     "execution_count": 21,
     "metadata": {},
     "output_type": "execute_result"
    }
   ],
   "source": [
    "df[df['Salary']>90000]\n",
    "# Here i have find the insights based on the 'Salary' Column the employee salary is greater than 90000.\n",
    "# So, you can sure here only two employees having the salary grater than 90000"
   ]
  },
  {
   "cell_type": "code",
   "execution_count": 22,
   "id": "2ff62bf3-284a-4f67-99ef-193ea98c91cd",
   "metadata": {},
   "outputs": [
    {
     "data": {
      "text/html": [
       "<div>\n",
       "<style scoped>\n",
       "    .dataframe tbody tr th:only-of-type {\n",
       "        vertical-align: middle;\n",
       "    }\n",
       "\n",
       "    .dataframe tbody tr th {\n",
       "        vertical-align: top;\n",
       "    }\n",
       "\n",
       "    .dataframe thead th {\n",
       "        text-align: right;\n",
       "    }\n",
       "</style>\n",
       "<table border=\"1\" class=\"dataframe\">\n",
       "  <thead>\n",
       "    <tr style=\"text-align: right;\">\n",
       "      <th></th>\n",
       "      <th>Company</th>\n",
       "      <th>Employee</th>\n",
       "      <th>Lucation</th>\n",
       "      <th>Salary</th>\n",
       "      <th>Company_join</th>\n",
       "    </tr>\n",
       "  </thead>\n",
       "  <tbody>\n",
       "    <tr>\n",
       "      <th>0</th>\n",
       "      <td>True</td>\n",
       "      <td>True</td>\n",
       "      <td>True</td>\n",
       "      <td>True</td>\n",
       "      <td>True</td>\n",
       "    </tr>\n",
       "    <tr>\n",
       "      <th>1</th>\n",
       "      <td>True</td>\n",
       "      <td>True</td>\n",
       "      <td>True</td>\n",
       "      <td>True</td>\n",
       "      <td>True</td>\n",
       "    </tr>\n",
       "    <tr>\n",
       "      <th>2</th>\n",
       "      <td>True</td>\n",
       "      <td>True</td>\n",
       "      <td>True</td>\n",
       "      <td>True</td>\n",
       "      <td>True</td>\n",
       "    </tr>\n",
       "    <tr>\n",
       "      <th>3</th>\n",
       "      <td>True</td>\n",
       "      <td>True</td>\n",
       "      <td>True</td>\n",
       "      <td>True</td>\n",
       "      <td>True</td>\n",
       "    </tr>\n",
       "    <tr>\n",
       "      <th>4</th>\n",
       "      <td>True</td>\n",
       "      <td>True</td>\n",
       "      <td>True</td>\n",
       "      <td>True</td>\n",
       "      <td>True</td>\n",
       "    </tr>\n",
       "    <tr>\n",
       "      <th>5</th>\n",
       "      <td>True</td>\n",
       "      <td>True</td>\n",
       "      <td>True</td>\n",
       "      <td>True</td>\n",
       "      <td>True</td>\n",
       "    </tr>\n",
       "    <tr>\n",
       "      <th>6</th>\n",
       "      <td>True</td>\n",
       "      <td>True</td>\n",
       "      <td>True</td>\n",
       "      <td>True</td>\n",
       "      <td>True</td>\n",
       "    </tr>\n",
       "    <tr>\n",
       "      <th>7</th>\n",
       "      <td>True</td>\n",
       "      <td>True</td>\n",
       "      <td>True</td>\n",
       "      <td>True</td>\n",
       "      <td>True</td>\n",
       "    </tr>\n",
       "    <tr>\n",
       "      <th>8</th>\n",
       "      <td>True</td>\n",
       "      <td>True</td>\n",
       "      <td>True</td>\n",
       "      <td>True</td>\n",
       "      <td>True</td>\n",
       "    </tr>\n",
       "    <tr>\n",
       "      <th>9</th>\n",
       "      <td>True</td>\n",
       "      <td>True</td>\n",
       "      <td>True</td>\n",
       "      <td>True</td>\n",
       "      <td>True</td>\n",
       "    </tr>\n",
       "  </tbody>\n",
       "</table>\n",
       "</div>"
      ],
      "text/plain": [
       "   Company  Employee  Lucation  Salary  Company_join\n",
       "0     True      True      True    True          True\n",
       "1     True      True      True    True          True\n",
       "2     True      True      True    True          True\n",
       "3     True      True      True    True          True\n",
       "4     True      True      True    True          True\n",
       "5     True      True      True    True          True\n",
       "6     True      True      True    True          True\n",
       "7     True      True      True    True          True\n",
       "8     True      True      True    True          True\n",
       "9     True      True      True    True          True"
      ]
     },
     "execution_count": 22,
     "metadata": {},
     "output_type": "execute_result"
    }
   ],
   "source": [
    "df.notnull()"
   ]
  },
  {
   "cell_type": "markdown",
   "id": "982265f4-8173-4dfc-9c40-403fb843f2ae",
   "metadata": {},
   "source": [
    "As you can sure here there is no any null values inside our dataframe\n"
   ]
  },
  {
   "cell_type": "code",
   "execution_count": 23,
   "id": "5c2e45eb-a4a6-4957-a807-545d214fa8e1",
   "metadata": {},
   "outputs": [
    {
     "data": {
      "text/html": [
       "<div>\n",
       "<style scoped>\n",
       "    .dataframe tbody tr th:only-of-type {\n",
       "        vertical-align: middle;\n",
       "    }\n",
       "\n",
       "    .dataframe tbody tr th {\n",
       "        vertical-align: top;\n",
       "    }\n",
       "\n",
       "    .dataframe thead th {\n",
       "        text-align: right;\n",
       "    }\n",
       "</style>\n",
       "<table border=\"1\" class=\"dataframe\">\n",
       "  <thead>\n",
       "    <tr style=\"text-align: right;\">\n",
       "      <th></th>\n",
       "      <th>Company</th>\n",
       "      <th>Employee</th>\n",
       "      <th>Lucation</th>\n",
       "      <th>Salary</th>\n",
       "      <th>Company_join</th>\n",
       "    </tr>\n",
       "  </thead>\n",
       "  <tbody>\n",
       "    <tr>\n",
       "      <th>0</th>\n",
       "      <td>Amazon</td>\n",
       "      <td>Rohan</td>\n",
       "      <td>Mumbai</td>\n",
       "      <td>120000</td>\n",
       "      <td>2019</td>\n",
       "    </tr>\n",
       "    <tr>\n",
       "      <th>1</th>\n",
       "      <td>Microsoft</td>\n",
       "      <td>Sohan</td>\n",
       "      <td>Delhi</td>\n",
       "      <td>90000</td>\n",
       "      <td>2015</td>\n",
       "    </tr>\n",
       "    <tr>\n",
       "      <th>2</th>\n",
       "      <td>Flipkart</td>\n",
       "      <td>Saurabh</td>\n",
       "      <td>Banglore</td>\n",
       "      <td>78000</td>\n",
       "      <td>2013</td>\n",
       "    </tr>\n",
       "    <tr>\n",
       "      <th>3</th>\n",
       "      <td>Accenture</td>\n",
       "      <td>Ayan</td>\n",
       "      <td>karnatka</td>\n",
       "      <td>82000</td>\n",
       "      <td>2023</td>\n",
       "    </tr>\n",
       "  </tbody>\n",
       "</table>\n",
       "</div>"
      ],
      "text/plain": [
       "     Company Employee  Lucation  Salary  Company_join\n",
       "0     Amazon    Rohan    Mumbai  120000          2019\n",
       "1  Microsoft    Sohan     Delhi   90000          2015\n",
       "2   Flipkart  Saurabh  Banglore   78000          2013\n",
       "3  Accenture     Ayan  karnatka   82000          2023"
      ]
     },
     "execution_count": 23,
     "metadata": {},
     "output_type": "execute_result"
    }
   ],
   "source": [
    "df.iloc[0:4,0:5]"
   ]
  },
  {
   "cell_type": "code",
   "execution_count": 24,
   "id": "45665f7e-3e6d-44ba-a53c-40a858526727",
   "metadata": {},
   "outputs": [
    {
     "data": {
      "text/plain": [
       "(10, 5)"
      ]
     },
     "execution_count": 24,
     "metadata": {},
     "output_type": "execute_result"
    }
   ],
   "source": [
    "df.shape"
   ]
  },
  {
   "cell_type": "code",
   "execution_count": 25,
   "id": "b92d35a7-2cb2-4c9b-90a0-c5fe5b3c8071",
   "metadata": {},
   "outputs": [
    {
     "data": {
      "text/plain": [
       "<bound method DataFrame.info of      Company Employee    Lucation  Salary  Company_join\n",
       "0     Amazon    Rohan      Mumbai  120000          2019\n",
       "1  Microsoft    Sohan       Delhi   90000          2015\n",
       "2   Flipkart  Saurabh    Banglore   78000          2013\n",
       "3  Accenture     Ayan    karnatka   82000          2023\n",
       "4     Google   Anjali       Noida   65000          2025\n",
       "5        HCL     Sonu      Mumbai   78000          2012\n",
       "6      Wipro    Harsh    Banglore   70000          2022\n",
       "7    Infosys  Roshani    Gurugram   67000          2024\n",
       "8      Apple     Deva  Faridabaad  110000          2017\n",
       "9        TCS    Shyam       Delhi   72000          2020>"
      ]
     },
     "execution_count": 25,
     "metadata": {},
     "output_type": "execute_result"
    }
   ],
   "source": [
    "df.info"
   ]
  },
  {
   "cell_type": "code",
   "execution_count": 26,
   "id": "36ea4b75-53c0-4caf-a894-10758e60352f",
   "metadata": {},
   "outputs": [
    {
     "data": {
      "text/html": [
       "<div>\n",
       "<style scoped>\n",
       "    .dataframe tbody tr th:only-of-type {\n",
       "        vertical-align: middle;\n",
       "    }\n",
       "\n",
       "    .dataframe tbody tr th {\n",
       "        vertical-align: top;\n",
       "    }\n",
       "\n",
       "    .dataframe thead th {\n",
       "        text-align: right;\n",
       "    }\n",
       "</style>\n",
       "<table border=\"1\" class=\"dataframe\">\n",
       "  <thead>\n",
       "    <tr style=\"text-align: right;\">\n",
       "      <th></th>\n",
       "      <th>Company</th>\n",
       "      <th>Employee</th>\n",
       "      <th>Lucation</th>\n",
       "      <th>Money</th>\n",
       "      <th>Company_join</th>\n",
       "    </tr>\n",
       "  </thead>\n",
       "  <tbody>\n",
       "    <tr>\n",
       "      <th>0</th>\n",
       "      <td>Amazon</td>\n",
       "      <td>Rohan</td>\n",
       "      <td>Mumbai</td>\n",
       "      <td>120000</td>\n",
       "      <td>2019</td>\n",
       "    </tr>\n",
       "    <tr>\n",
       "      <th>1</th>\n",
       "      <td>Microsoft</td>\n",
       "      <td>Sohan</td>\n",
       "      <td>Delhi</td>\n",
       "      <td>90000</td>\n",
       "      <td>2015</td>\n",
       "    </tr>\n",
       "    <tr>\n",
       "      <th>2</th>\n",
       "      <td>Flipkart</td>\n",
       "      <td>Saurabh</td>\n",
       "      <td>Banglore</td>\n",
       "      <td>78000</td>\n",
       "      <td>2013</td>\n",
       "    </tr>\n",
       "    <tr>\n",
       "      <th>3</th>\n",
       "      <td>Accenture</td>\n",
       "      <td>Ayan</td>\n",
       "      <td>karnatka</td>\n",
       "      <td>82000</td>\n",
       "      <td>2023</td>\n",
       "    </tr>\n",
       "    <tr>\n",
       "      <th>4</th>\n",
       "      <td>Google</td>\n",
       "      <td>Anjali</td>\n",
       "      <td>Noida</td>\n",
       "      <td>65000</td>\n",
       "      <td>2025</td>\n",
       "    </tr>\n",
       "    <tr>\n",
       "      <th>5</th>\n",
       "      <td>HCL</td>\n",
       "      <td>Sonu</td>\n",
       "      <td>Mumbai</td>\n",
       "      <td>78000</td>\n",
       "      <td>2012</td>\n",
       "    </tr>\n",
       "    <tr>\n",
       "      <th>6</th>\n",
       "      <td>Wipro</td>\n",
       "      <td>Harsh</td>\n",
       "      <td>Banglore</td>\n",
       "      <td>70000</td>\n",
       "      <td>2022</td>\n",
       "    </tr>\n",
       "    <tr>\n",
       "      <th>7</th>\n",
       "      <td>Infosys</td>\n",
       "      <td>Roshani</td>\n",
       "      <td>Gurugram</td>\n",
       "      <td>67000</td>\n",
       "      <td>2024</td>\n",
       "    </tr>\n",
       "    <tr>\n",
       "      <th>8</th>\n",
       "      <td>Apple</td>\n",
       "      <td>Deva</td>\n",
       "      <td>Faridabaad</td>\n",
       "      <td>110000</td>\n",
       "      <td>2017</td>\n",
       "    </tr>\n",
       "    <tr>\n",
       "      <th>9</th>\n",
       "      <td>TCS</td>\n",
       "      <td>Shyam</td>\n",
       "      <td>Delhi</td>\n",
       "      <td>72000</td>\n",
       "      <td>2020</td>\n",
       "    </tr>\n",
       "  </tbody>\n",
       "</table>\n",
       "</div>"
      ],
      "text/plain": [
       "     Company Employee    Lucation   Money  Company_join\n",
       "0     Amazon    Rohan      Mumbai  120000          2019\n",
       "1  Microsoft    Sohan       Delhi   90000          2015\n",
       "2   Flipkart  Saurabh    Banglore   78000          2013\n",
       "3  Accenture     Ayan    karnatka   82000          2023\n",
       "4     Google   Anjali       Noida   65000          2025\n",
       "5        HCL     Sonu      Mumbai   78000          2012\n",
       "6      Wipro    Harsh    Banglore   70000          2022\n",
       "7    Infosys  Roshani    Gurugram   67000          2024\n",
       "8      Apple     Deva  Faridabaad  110000          2017\n",
       "9        TCS    Shyam       Delhi   72000          2020"
      ]
     },
     "execution_count": 26,
     "metadata": {},
     "output_type": "execute_result"
    }
   ],
   "source": [
    "df.rename (columns ={ 'Salary': 'Money'})\n",
    "# You can see here the Salary column is replaced by Money"
   ]
  },
  {
   "cell_type": "code",
   "execution_count": 27,
   "id": "bfd79567-c9c7-4bdb-8fd7-3800b06a9d04",
   "metadata": {},
   "outputs": [],
   "source": [
    "# Finding the different Statistical Operation \n",
    "data =df.rename(columns ={'Money':'Salary'})"
   ]
  },
  {
   "cell_type": "code",
   "execution_count": 28,
   "id": "a36184a2-8033-458d-b79c-e6d8d2ce4864",
   "metadata": {},
   "outputs": [
    {
     "data": {
      "text/html": [
       "<div>\n",
       "<style scoped>\n",
       "    .dataframe tbody tr th:only-of-type {\n",
       "        vertical-align: middle;\n",
       "    }\n",
       "\n",
       "    .dataframe tbody tr th {\n",
       "        vertical-align: top;\n",
       "    }\n",
       "\n",
       "    .dataframe thead th {\n",
       "        text-align: right;\n",
       "    }\n",
       "</style>\n",
       "<table border=\"1\" class=\"dataframe\">\n",
       "  <thead>\n",
       "    <tr style=\"text-align: right;\">\n",
       "      <th></th>\n",
       "      <th>Company</th>\n",
       "      <th>Employee</th>\n",
       "      <th>Lucation</th>\n",
       "      <th>Salary</th>\n",
       "      <th>Company_join</th>\n",
       "    </tr>\n",
       "  </thead>\n",
       "  <tbody>\n",
       "    <tr>\n",
       "      <th>0</th>\n",
       "      <td>Amazon</td>\n",
       "      <td>Rohan</td>\n",
       "      <td>Mumbai</td>\n",
       "      <td>120000</td>\n",
       "      <td>2019</td>\n",
       "    </tr>\n",
       "    <tr>\n",
       "      <th>1</th>\n",
       "      <td>Microsoft</td>\n",
       "      <td>Sohan</td>\n",
       "      <td>Delhi</td>\n",
       "      <td>90000</td>\n",
       "      <td>2015</td>\n",
       "    </tr>\n",
       "    <tr>\n",
       "      <th>2</th>\n",
       "      <td>Flipkart</td>\n",
       "      <td>Saurabh</td>\n",
       "      <td>Banglore</td>\n",
       "      <td>78000</td>\n",
       "      <td>2013</td>\n",
       "    </tr>\n",
       "    <tr>\n",
       "      <th>3</th>\n",
       "      <td>Accenture</td>\n",
       "      <td>Ayan</td>\n",
       "      <td>karnatka</td>\n",
       "      <td>82000</td>\n",
       "      <td>2023</td>\n",
       "    </tr>\n",
       "    <tr>\n",
       "      <th>4</th>\n",
       "      <td>Google</td>\n",
       "      <td>Anjali</td>\n",
       "      <td>Noida</td>\n",
       "      <td>65000</td>\n",
       "      <td>2025</td>\n",
       "    </tr>\n",
       "    <tr>\n",
       "      <th>5</th>\n",
       "      <td>HCL</td>\n",
       "      <td>Sonu</td>\n",
       "      <td>Mumbai</td>\n",
       "      <td>78000</td>\n",
       "      <td>2012</td>\n",
       "    </tr>\n",
       "    <tr>\n",
       "      <th>6</th>\n",
       "      <td>Wipro</td>\n",
       "      <td>Harsh</td>\n",
       "      <td>Banglore</td>\n",
       "      <td>70000</td>\n",
       "      <td>2022</td>\n",
       "    </tr>\n",
       "    <tr>\n",
       "      <th>7</th>\n",
       "      <td>Infosys</td>\n",
       "      <td>Roshani</td>\n",
       "      <td>Gurugram</td>\n",
       "      <td>67000</td>\n",
       "      <td>2024</td>\n",
       "    </tr>\n",
       "    <tr>\n",
       "      <th>8</th>\n",
       "      <td>Apple</td>\n",
       "      <td>Deva</td>\n",
       "      <td>Faridabaad</td>\n",
       "      <td>110000</td>\n",
       "      <td>2017</td>\n",
       "    </tr>\n",
       "    <tr>\n",
       "      <th>9</th>\n",
       "      <td>TCS</td>\n",
       "      <td>Shyam</td>\n",
       "      <td>Delhi</td>\n",
       "      <td>72000</td>\n",
       "      <td>2020</td>\n",
       "    </tr>\n",
       "  </tbody>\n",
       "</table>\n",
       "</div>"
      ],
      "text/plain": [
       "     Company Employee    Lucation  Salary  Company_join\n",
       "0     Amazon    Rohan      Mumbai  120000          2019\n",
       "1  Microsoft    Sohan       Delhi   90000          2015\n",
       "2   Flipkart  Saurabh    Banglore   78000          2013\n",
       "3  Accenture     Ayan    karnatka   82000          2023\n",
       "4     Google   Anjali       Noida   65000          2025\n",
       "5        HCL     Sonu      Mumbai   78000          2012\n",
       "6      Wipro    Harsh    Banglore   70000          2022\n",
       "7    Infosys  Roshani    Gurugram   67000          2024\n",
       "8      Apple     Deva  Faridabaad  110000          2017\n",
       "9        TCS    Shyam       Delhi   72000          2020"
      ]
     },
     "execution_count": 28,
     "metadata": {},
     "output_type": "execute_result"
    }
   ],
   "source": [
    "data"
   ]
  },
  {
   "cell_type": "code",
   "execution_count": 29,
   "id": "7cfb426d-91d3-49fb-87b5-462d444a3301",
   "metadata": {},
   "outputs": [
    {
     "data": {
      "text/html": [
       "<div>\n",
       "<style scoped>\n",
       "    .dataframe tbody tr th:only-of-type {\n",
       "        vertical-align: middle;\n",
       "    }\n",
       "\n",
       "    .dataframe tbody tr th {\n",
       "        vertical-align: top;\n",
       "    }\n",
       "\n",
       "    .dataframe thead th {\n",
       "        text-align: right;\n",
       "    }\n",
       "</style>\n",
       "<table border=\"1\" class=\"dataframe\">\n",
       "  <thead>\n",
       "    <tr style=\"text-align: right;\">\n",
       "      <th></th>\n",
       "      <th>Company</th>\n",
       "      <th>Employee</th>\n",
       "      <th>Lucation</th>\n",
       "      <th>Salary</th>\n",
       "      <th>Company_join</th>\n",
       "    </tr>\n",
       "  </thead>\n",
       "  <tbody>\n",
       "    <tr>\n",
       "      <th>4</th>\n",
       "      <td>Google</td>\n",
       "      <td>Anjali</td>\n",
       "      <td>Noida</td>\n",
       "      <td>65000</td>\n",
       "      <td>2025</td>\n",
       "    </tr>\n",
       "    <tr>\n",
       "      <th>7</th>\n",
       "      <td>Infosys</td>\n",
       "      <td>Roshani</td>\n",
       "      <td>Gurugram</td>\n",
       "      <td>67000</td>\n",
       "      <td>2024</td>\n",
       "    </tr>\n",
       "    <tr>\n",
       "      <th>6</th>\n",
       "      <td>Wipro</td>\n",
       "      <td>Harsh</td>\n",
       "      <td>Banglore</td>\n",
       "      <td>70000</td>\n",
       "      <td>2022</td>\n",
       "    </tr>\n",
       "    <tr>\n",
       "      <th>9</th>\n",
       "      <td>TCS</td>\n",
       "      <td>Shyam</td>\n",
       "      <td>Delhi</td>\n",
       "      <td>72000</td>\n",
       "      <td>2020</td>\n",
       "    </tr>\n",
       "    <tr>\n",
       "      <th>2</th>\n",
       "      <td>Flipkart</td>\n",
       "      <td>Saurabh</td>\n",
       "      <td>Banglore</td>\n",
       "      <td>78000</td>\n",
       "      <td>2013</td>\n",
       "    </tr>\n",
       "    <tr>\n",
       "      <th>5</th>\n",
       "      <td>HCL</td>\n",
       "      <td>Sonu</td>\n",
       "      <td>Mumbai</td>\n",
       "      <td>78000</td>\n",
       "      <td>2012</td>\n",
       "    </tr>\n",
       "    <tr>\n",
       "      <th>3</th>\n",
       "      <td>Accenture</td>\n",
       "      <td>Ayan</td>\n",
       "      <td>karnatka</td>\n",
       "      <td>82000</td>\n",
       "      <td>2023</td>\n",
       "    </tr>\n",
       "    <tr>\n",
       "      <th>1</th>\n",
       "      <td>Microsoft</td>\n",
       "      <td>Sohan</td>\n",
       "      <td>Delhi</td>\n",
       "      <td>90000</td>\n",
       "      <td>2015</td>\n",
       "    </tr>\n",
       "    <tr>\n",
       "      <th>8</th>\n",
       "      <td>Apple</td>\n",
       "      <td>Deva</td>\n",
       "      <td>Faridabaad</td>\n",
       "      <td>110000</td>\n",
       "      <td>2017</td>\n",
       "    </tr>\n",
       "    <tr>\n",
       "      <th>0</th>\n",
       "      <td>Amazon</td>\n",
       "      <td>Rohan</td>\n",
       "      <td>Mumbai</td>\n",
       "      <td>120000</td>\n",
       "      <td>2019</td>\n",
       "    </tr>\n",
       "  </tbody>\n",
       "</table>\n",
       "</div>"
      ],
      "text/plain": [
       "     Company Employee    Lucation  Salary  Company_join\n",
       "4     Google   Anjali       Noida   65000          2025\n",
       "7    Infosys  Roshani    Gurugram   67000          2024\n",
       "6      Wipro    Harsh    Banglore   70000          2022\n",
       "9        TCS    Shyam       Delhi   72000          2020\n",
       "2   Flipkart  Saurabh    Banglore   78000          2013\n",
       "5        HCL     Sonu      Mumbai   78000          2012\n",
       "3  Accenture     Ayan    karnatka   82000          2023\n",
       "1  Microsoft    Sohan       Delhi   90000          2015\n",
       "8      Apple     Deva  Faridabaad  110000          2017\n",
       "0     Amazon    Rohan      Mumbai  120000          2019"
      ]
     },
     "execution_count": 29,
     "metadata": {},
     "output_type": "execute_result"
    }
   ],
   "source": [
    "# Shorting the columns values\n",
    "data.sort_values(['Salary'])"
   ]
  },
  {
   "cell_type": "code",
   "execution_count": 30,
   "id": "273e0fe3-afc1-4477-806c-3ed55e101d15",
   "metadata": {},
   "outputs": [
    {
     "data": {
      "text/plain": [
       "<pandas.core.groupby.generic.DataFrameGroupBy object at 0x000001867EF59D90>"
      ]
     },
     "execution_count": 30,
     "metadata": {},
     "output_type": "execute_result"
    }
   ],
   "source": [
    "data.groupby('Salary')"
   ]
  },
  {
   "cell_type": "code",
   "execution_count": 31,
   "id": "9a2fc891-3156-4974-beef-9735532eab2a",
   "metadata": {},
   "outputs": [
    {
     "data": {
      "text/html": [
       "<div>\n",
       "<style scoped>\n",
       "    .dataframe tbody tr th:only-of-type {\n",
       "        vertical-align: middle;\n",
       "    }\n",
       "\n",
       "    .dataframe tbody tr th {\n",
       "        vertical-align: top;\n",
       "    }\n",
       "\n",
       "    .dataframe thead th {\n",
       "        text-align: right;\n",
       "    }\n",
       "</style>\n",
       "<table border=\"1\" class=\"dataframe\">\n",
       "  <thead>\n",
       "    <tr style=\"text-align: right;\">\n",
       "      <th></th>\n",
       "      <th>Company</th>\n",
       "      <th>Employee</th>\n",
       "      <th>Lucation</th>\n",
       "      <th>Salary</th>\n",
       "      <th>Company_join</th>\n",
       "    </tr>\n",
       "  </thead>\n",
       "  <tbody>\n",
       "    <tr>\n",
       "      <th>0</th>\n",
       "      <td>Amazon</td>\n",
       "      <td>Rohan</td>\n",
       "      <td>Mumbai</td>\n",
       "      <td>120000</td>\n",
       "      <td>2019</td>\n",
       "    </tr>\n",
       "    <tr>\n",
       "      <th>1</th>\n",
       "      <td>Microsoft</td>\n",
       "      <td>Sohan</td>\n",
       "      <td>Delhi</td>\n",
       "      <td>90000</td>\n",
       "      <td>2015</td>\n",
       "    </tr>\n",
       "    <tr>\n",
       "      <th>2</th>\n",
       "      <td>Flipkart</td>\n",
       "      <td>Saurabh</td>\n",
       "      <td>Banglore</td>\n",
       "      <td>78000</td>\n",
       "      <td>2013</td>\n",
       "    </tr>\n",
       "    <tr>\n",
       "      <th>3</th>\n",
       "      <td>Accenture</td>\n",
       "      <td>Ayan</td>\n",
       "      <td>karnatka</td>\n",
       "      <td>82000</td>\n",
       "      <td>2023</td>\n",
       "    </tr>\n",
       "    <tr>\n",
       "      <th>4</th>\n",
       "      <td>Accenture</td>\n",
       "      <td>Anjali</td>\n",
       "      <td>Noida</td>\n",
       "      <td>65000</td>\n",
       "      <td>2025</td>\n",
       "    </tr>\n",
       "    <tr>\n",
       "      <th>5</th>\n",
       "      <td>HCL</td>\n",
       "      <td>Sonu</td>\n",
       "      <td>Mumbai</td>\n",
       "      <td>78000</td>\n",
       "      <td>2012</td>\n",
       "    </tr>\n",
       "    <tr>\n",
       "      <th>6</th>\n",
       "      <td>Wipro</td>\n",
       "      <td>Harsh</td>\n",
       "      <td>Banglore</td>\n",
       "      <td>70000</td>\n",
       "      <td>2022</td>\n",
       "    </tr>\n",
       "    <tr>\n",
       "      <th>7</th>\n",
       "      <td>Infosys</td>\n",
       "      <td>Roshani</td>\n",
       "      <td>Gurugram</td>\n",
       "      <td>67000</td>\n",
       "      <td>2024</td>\n",
       "    </tr>\n",
       "    <tr>\n",
       "      <th>8</th>\n",
       "      <td>Apple</td>\n",
       "      <td>Deva</td>\n",
       "      <td>Faridabaad</td>\n",
       "      <td>110000</td>\n",
       "      <td>2017</td>\n",
       "    </tr>\n",
       "    <tr>\n",
       "      <th>9</th>\n",
       "      <td>TCS</td>\n",
       "      <td>Shyam</td>\n",
       "      <td>Delhi</td>\n",
       "      <td>72000</td>\n",
       "      <td>2020</td>\n",
       "    </tr>\n",
       "  </tbody>\n",
       "</table>\n",
       "</div>"
      ],
      "text/plain": [
       "     Company Employee    Lucation  Salary  Company_join\n",
       "0     Amazon    Rohan      Mumbai  120000          2019\n",
       "1  Microsoft    Sohan       Delhi   90000          2015\n",
       "2   Flipkart  Saurabh    Banglore   78000          2013\n",
       "3  Accenture     Ayan    karnatka   82000          2023\n",
       "4  Accenture   Anjali       Noida   65000          2025\n",
       "5        HCL     Sonu      Mumbai   78000          2012\n",
       "6      Wipro    Harsh    Banglore   70000          2022\n",
       "7    Infosys  Roshani    Gurugram   67000          2024\n",
       "8      Apple     Deva  Faridabaad  110000          2017\n",
       "9        TCS    Shyam       Delhi   72000          2020"
      ]
     },
     "execution_count": 31,
     "metadata": {},
     "output_type": "execute_result"
    }
   ],
   "source": [
    "data.replace('Google','Accenture')\n",
    "# Here you can see that two same company name 'Accenture' "
   ]
  },
  {
   "cell_type": "code",
   "execution_count": 32,
   "id": "ef65af1d-4cc4-4b63-b9e2-b797302673bb",
   "metadata": {},
   "outputs": [
    {
     "data": {
      "text/html": [
       "<div>\n",
       "<style scoped>\n",
       "    .dataframe tbody tr th:only-of-type {\n",
       "        vertical-align: middle;\n",
       "    }\n",
       "\n",
       "    .dataframe tbody tr th {\n",
       "        vertical-align: top;\n",
       "    }\n",
       "\n",
       "    .dataframe thead th {\n",
       "        text-align: right;\n",
       "    }\n",
       "</style>\n",
       "<table border=\"1\" class=\"dataframe\">\n",
       "  <thead>\n",
       "    <tr style=\"text-align: right;\">\n",
       "      <th></th>\n",
       "      <th>Company</th>\n",
       "      <th>Employee</th>\n",
       "      <th>Lucation</th>\n",
       "      <th>Salary</th>\n",
       "      <th>Company_join</th>\n",
       "    </tr>\n",
       "  </thead>\n",
       "  <tbody>\n",
       "    <tr>\n",
       "      <th>0</th>\n",
       "      <td>Amazon</td>\n",
       "      <td>Rohan</td>\n",
       "      <td>Mumbai</td>\n",
       "      <td>120000</td>\n",
       "      <td>2019</td>\n",
       "    </tr>\n",
       "    <tr>\n",
       "      <th>1</th>\n",
       "      <td>Microsoft</td>\n",
       "      <td>Sohan</td>\n",
       "      <td>Delhi</td>\n",
       "      <td>90000</td>\n",
       "      <td>2015</td>\n",
       "    </tr>\n",
       "    <tr>\n",
       "      <th>2</th>\n",
       "      <td>Flipkart</td>\n",
       "      <td>Saurabh</td>\n",
       "      <td>Banglore</td>\n",
       "      <td>78000</td>\n",
       "      <td>2013</td>\n",
       "    </tr>\n",
       "    <tr>\n",
       "      <th>3</th>\n",
       "      <td>Accenture</td>\n",
       "      <td>Ayan</td>\n",
       "      <td>karnatka</td>\n",
       "      <td>82000</td>\n",
       "      <td>2023</td>\n",
       "    </tr>\n",
       "    <tr>\n",
       "      <th>4</th>\n",
       "      <td>Google</td>\n",
       "      <td>Anjali</td>\n",
       "      <td>Noida</td>\n",
       "      <td>65000</td>\n",
       "      <td>2025</td>\n",
       "    </tr>\n",
       "    <tr>\n",
       "      <th>5</th>\n",
       "      <td>HCL</td>\n",
       "      <td>Sonu</td>\n",
       "      <td>Mumbai</td>\n",
       "      <td>78000</td>\n",
       "      <td>2012</td>\n",
       "    </tr>\n",
       "    <tr>\n",
       "      <th>6</th>\n",
       "      <td>Wipro</td>\n",
       "      <td>Harsh</td>\n",
       "      <td>Banglore</td>\n",
       "      <td>70000</td>\n",
       "      <td>2022</td>\n",
       "    </tr>\n",
       "    <tr>\n",
       "      <th>7</th>\n",
       "      <td>Infosys</td>\n",
       "      <td>Roshani</td>\n",
       "      <td>Gurugram</td>\n",
       "      <td>67000</td>\n",
       "      <td>2024</td>\n",
       "    </tr>\n",
       "    <tr>\n",
       "      <th>8</th>\n",
       "      <td>Apple</td>\n",
       "      <td>Deva</td>\n",
       "      <td>Faridabaad</td>\n",
       "      <td>110000</td>\n",
       "      <td>2017</td>\n",
       "    </tr>\n",
       "    <tr>\n",
       "      <th>9</th>\n",
       "      <td>TCS</td>\n",
       "      <td>Shyam</td>\n",
       "      <td>Delhi</td>\n",
       "      <td>72000</td>\n",
       "      <td>2020</td>\n",
       "    </tr>\n",
       "  </tbody>\n",
       "</table>\n",
       "</div>"
      ],
      "text/plain": [
       "     Company Employee    Lucation  Salary  Company_join\n",
       "0     Amazon    Rohan      Mumbai  120000          2019\n",
       "1  Microsoft    Sohan       Delhi   90000          2015\n",
       "2   Flipkart  Saurabh    Banglore   78000          2013\n",
       "3  Accenture     Ayan    karnatka   82000          2023\n",
       "4     Google   Anjali       Noida   65000          2025\n",
       "5        HCL     Sonu      Mumbai   78000          2012\n",
       "6      Wipro    Harsh    Banglore   70000          2022\n",
       "7    Infosys  Roshani    Gurugram   67000          2024\n",
       "8      Apple     Deva  Faridabaad  110000          2017\n",
       "9        TCS    Shyam       Delhi   72000          2020"
      ]
     },
     "execution_count": 32,
     "metadata": {},
     "output_type": "execute_result"
    }
   ],
   "source": [
    "# Now i will drop the duplicate value from our DataFrame\n",
    "data.drop_duplicates()"
   ]
  },
  {
   "cell_type": "code",
   "execution_count": 33,
   "id": "43fc2850-c3c0-48df-814a-5ecc27485e97",
   "metadata": {},
   "outputs": [
    {
     "data": {
      "text/plain": [
       "<Axes: >"
      ]
     },
     "execution_count": 33,
     "metadata": {},
     "output_type": "execute_result"
    },
    {
     "data": {
      "image/png": "[encoded data removed]",
      "text/plain": [
       "<Figure size 640x480 with 1 Axes>"
      ]
     },
     "metadata": {},
     "output_type": "display_data"
    }
   ],
   "source": [
    "df.plot(kind = 'line')"
   ]
  },
  {
   "cell_type": "code",
   "execution_count": 34,
   "id": "8478a702-0776-445b-9363-fc4182bd3e12",
   "metadata": {},
   "outputs": [
    {
     "data": {
      "text/plain": [
       "<Axes: >"
      ]
     },
     "execution_count": 34,
     "metadata": {},
     "output_type": "execute_result"
    },
    {
     "data": {
      "image/png": "[encoded data removed]",
      "text/plain": [
       "<Figure size 640x480 with 1 Axes>"
      ]
     },
     "metadata": {},
     "output_type": "display_data"
    }
   ],
   "source": [
    "df.plot(kind ='bar')"
   ]
  },
  {
   "cell_type": "code",
   "execution_count": 35,
   "id": "db2be13f-fff1-45db-8baf-0843df465aea",
   "metadata": {},
   "outputs": [
    {
     "data": {
      "text/plain": [
       "<Axes: ylabel='Frequency'>"
      ]
     },
     "execution_count": 35,
     "metadata": {},
     "output_type": "execute_result"
    },
    {
     "data": {
      "image/png": "[encoded data removed]",
      "text/plain": [
       "<Figure size 640x480 with 1 Axes>"
      ]
     },
     "metadata": {},
     "output_type": "display_data"
    }
   ],
   "source": [
    "df.plot(kind = 'hist')"
   ]
  },
  {
   "cell_type": "code",
   "execution_count": 36,
   "id": "448be1c1-fb02-4912-93b9-2de1d6e747d0",
   "metadata": {},
   "outputs": [
    {
     "data": {
      "text/plain": [
       "<Axes: >"
      ]
     },
     "execution_count": 36,
     "metadata": {},
     "output_type": "execute_result"
    },
    {
     "data": {
      "image/png": "[encoded data removed]",
      "text/plain": [
       "<Figure size 640x480 with 1 Axes>"
      ]
     },
     "metadata": {},
     "output_type": "display_data"
    }
   ],
   "source": [
    "df.plot(kind ='barh')"
   ]
  },
  {
   "cell_type": "code",
   "execution_count": 37,
   "id": "1b039151-c3ab-4751-b306-ac4d628dfcc9",
   "metadata": {},
   "outputs": [
    {
     "data": {
      "text/plain": [
       "<Axes: ylabel='Density'>"
      ]
     },
     "execution_count": 37,
     "metadata": {},
     "output_type": "execute_result"
    },
    {
     "data": {
      "image/png": "[encoded data removed]",
      "text/plain": [
       "<Figure size 640x480 with 1 Axes>"
      ]
     },
     "metadata": {},
     "output_type": "display_data"
    }
   ],
   "source": [
    "df.plot(kind = 'kde')"
   ]
  },
  {
   "cell_type": "code",
   "execution_count": 38,
   "id": "4759bda5-126a-48fc-a532-4ecda961c92b",
   "metadata": {},
   "outputs": [
    {
     "data": {
      "text/plain": [
       "<Axes: >"
      ]
     },
     "execution_count": 38,
     "metadata": {},
     "output_type": "execute_result"
    },
    {
     "data": {
      "image/png": "[encoded data removed]",
      "text/plain": [
       "<Figure size 640x480 with 1 Axes>"
      ]
     },
     "metadata": {},
     "output_type": "display_data"
    }
   ],
   "source": [
    "df.plot(kind = 'box')"
   ]
  },
  {
   "cell_type": "code",
   "execution_count": 39,
   "id": "ad5f04e0-e1ca-4bb3-8c65-7c05ec3443f7",
   "metadata": {},
   "outputs": [
    {
     "data": {
      "text/html": [
       "<div>\n",
       "<style scoped>\n",
       "    .dataframe tbody tr th:only-of-type {\n",
       "        vertical-align: middle;\n",
       "    }\n",
       "\n",
       "    .dataframe tbody tr th {\n",
       "        vertical-align: top;\n",
       "    }\n",
       "\n",
       "    .dataframe thead th {\n",
       "        text-align: right;\n",
       "    }\n",
       "</style>\n",
       "<table border=\"1\" class=\"dataframe\">\n",
       "  <thead>\n",
       "    <tr style=\"text-align: right;\">\n",
       "      <th></th>\n",
       "      <th>Salary</th>\n",
       "      <th>Company_join</th>\n",
       "    </tr>\n",
       "  </thead>\n",
       "  <tbody>\n",
       "    <tr>\n",
       "      <th>0</th>\n",
       "      <td>120000</td>\n",
       "      <td>2019</td>\n",
       "    </tr>\n",
       "    <tr>\n",
       "      <th>1</th>\n",
       "      <td>90000</td>\n",
       "      <td>2015</td>\n",
       "    </tr>\n",
       "    <tr>\n",
       "      <th>2</th>\n",
       "      <td>78000</td>\n",
       "      <td>2013</td>\n",
       "    </tr>\n",
       "    <tr>\n",
       "      <th>3</th>\n",
       "      <td>82000</td>\n",
       "      <td>2023</td>\n",
       "    </tr>\n",
       "    <tr>\n",
       "      <th>4</th>\n",
       "      <td>65000</td>\n",
       "      <td>2025</td>\n",
       "    </tr>\n",
       "    <tr>\n",
       "      <th>5</th>\n",
       "      <td>78000</td>\n",
       "      <td>2012</td>\n",
       "    </tr>\n",
       "    <tr>\n",
       "      <th>6</th>\n",
       "      <td>70000</td>\n",
       "      <td>2022</td>\n",
       "    </tr>\n",
       "    <tr>\n",
       "      <th>7</th>\n",
       "      <td>67000</td>\n",
       "      <td>2024</td>\n",
       "    </tr>\n",
       "    <tr>\n",
       "      <th>8</th>\n",
       "      <td>110000</td>\n",
       "      <td>2017</td>\n",
       "    </tr>\n",
       "    <tr>\n",
       "      <th>9</th>\n",
       "      <td>72000</td>\n",
       "      <td>2020</td>\n",
       "    </tr>\n",
       "  </tbody>\n",
       "</table>\n",
       "</div>"
      ],
      "text/plain": [
       "   Salary  Company_join\n",
       "0  120000          2019\n",
       "1   90000          2015\n",
       "2   78000          2013\n",
       "3   82000          2023\n",
       "4   65000          2025\n",
       "5   78000          2012\n",
       "6   70000          2022\n",
       "7   67000          2024\n",
       "8  110000          2017\n",
       "9   72000          2020"
      ]
     },
     "execution_count": 39,
     "metadata": {},
     "output_type": "execute_result"
    }
   ],
   "source": [
    "new_dataset"
   ]
  },
  {
   "cell_type": "code",
   "execution_count": 40,
   "id": "2180b5b4-f475-4f02-ab3a-68bff876cee8",
   "metadata": {},
   "outputs": [
    {
     "data": {
      "text/plain": [
       "<Axes: >"
      ]
     },
     "execution_count": 40,
     "metadata": {},
     "output_type": "execute_result"
    },
    {
     "data": {
      "image/png": "[encoded data removed]",
      "text/plain": [
       "<Figure size 640x480 with 1 Axes>"
      ]
     },
     "metadata": {},
     "output_type": "display_data"
    }
   ],
   "source": [
    "# As you can see that based on the dataset it has make visuals\n",
    "new_dataset.plot(kind = 'bar')"
   ]
  },
  {
   "cell_type": "code",
   "execution_count": 41,
   "id": "d3c20d01-f4de-4c61-8da9-0fb57d8a2dd7",
   "metadata": {},
   "outputs": [],
   "source": [
    "# Now i will take new colums\n",
    "new_data = df[['Lucation','Salary']]"
   ]
  },
  {
   "cell_type": "code",
   "execution_count": 42,
   "id": "a710df86-95af-4f07-8507-5a39964d1362",
   "metadata": {},
   "outputs": [
    {
     "data": {
      "text/html": [
       "<div>\n",
       "<style scoped>\n",
       "    .dataframe tbody tr th:only-of-type {\n",
       "        vertical-align: middle;\n",
       "    }\n",
       "\n",
       "    .dataframe tbody tr th {\n",
       "        vertical-align: top;\n",
       "    }\n",
       "\n",
       "    .dataframe thead th {\n",
       "        text-align: right;\n",
       "    }\n",
       "</style>\n",
       "<table border=\"1\" class=\"dataframe\">\n",
       "  <thead>\n",
       "    <tr style=\"text-align: right;\">\n",
       "      <th></th>\n",
       "      <th>Lucation</th>\n",
       "      <th>Salary</th>\n",
       "    </tr>\n",
       "  </thead>\n",
       "  <tbody>\n",
       "    <tr>\n",
       "      <th>0</th>\n",
       "      <td>Mumbai</td>\n",
       "      <td>120000</td>\n",
       "    </tr>\n",
       "    <tr>\n",
       "      <th>1</th>\n",
       "      <td>Delhi</td>\n",
       "      <td>90000</td>\n",
       "    </tr>\n",
       "    <tr>\n",
       "      <th>2</th>\n",
       "      <td>Banglore</td>\n",
       "      <td>78000</td>\n",
       "    </tr>\n",
       "    <tr>\n",
       "      <th>3</th>\n",
       "      <td>karnatka</td>\n",
       "      <td>82000</td>\n",
       "    </tr>\n",
       "    <tr>\n",
       "      <th>4</th>\n",
       "      <td>Noida</td>\n",
       "      <td>65000</td>\n",
       "    </tr>\n",
       "    <tr>\n",
       "      <th>5</th>\n",
       "      <td>Mumbai</td>\n",
       "      <td>78000</td>\n",
       "    </tr>\n",
       "    <tr>\n",
       "      <th>6</th>\n",
       "      <td>Banglore</td>\n",
       "      <td>70000</td>\n",
       "    </tr>\n",
       "    <tr>\n",
       "      <th>7</th>\n",
       "      <td>Gurugram</td>\n",
       "      <td>67000</td>\n",
       "    </tr>\n",
       "    <tr>\n",
       "      <th>8</th>\n",
       "      <td>Faridabaad</td>\n",
       "      <td>110000</td>\n",
       "    </tr>\n",
       "    <tr>\n",
       "      <th>9</th>\n",
       "      <td>Delhi</td>\n",
       "      <td>72000</td>\n",
       "    </tr>\n",
       "  </tbody>\n",
       "</table>\n",
       "</div>"
      ],
      "text/plain": [
       "     Lucation  Salary\n",
       "0      Mumbai  120000\n",
       "1       Delhi   90000\n",
       "2    Banglore   78000\n",
       "3    karnatka   82000\n",
       "4       Noida   65000\n",
       "5      Mumbai   78000\n",
       "6    Banglore   70000\n",
       "7    Gurugram   67000\n",
       "8  Faridabaad  110000\n",
       "9       Delhi   72000"
      ]
     },
     "execution_count": 42,
     "metadata": {},
     "output_type": "execute_result"
    }
   ],
   "source": [
    "new_data"
   ]
  },
  {
   "cell_type": "code",
   "execution_count": 43,
   "id": "89095e43-fa58-4180-af2d-e06fbfc85966",
   "metadata": {},
   "outputs": [
    {
     "data": {
      "text/html": [
       "<div>\n",
       "<style scoped>\n",
       "    .dataframe tbody tr th:only-of-type {\n",
       "        vertical-align: middle;\n",
       "    }\n",
       "\n",
       "    .dataframe tbody tr th {\n",
       "        vertical-align: top;\n",
       "    }\n",
       "\n",
       "    .dataframe thead th {\n",
       "        text-align: right;\n",
       "    }\n",
       "</style>\n",
       "<table border=\"1\" class=\"dataframe\">\n",
       "  <thead>\n",
       "    <tr style=\"text-align: right;\">\n",
       "      <th></th>\n",
       "      <th>Lucation</th>\n",
       "      <th>Salary</th>\n",
       "    </tr>\n",
       "  </thead>\n",
       "  <tbody>\n",
       "    <tr>\n",
       "      <th>0</th>\n",
       "      <td>Banglore</td>\n",
       "      <td>78000.0</td>\n",
       "    </tr>\n",
       "    <tr>\n",
       "      <th>1</th>\n",
       "      <td>Delhi</td>\n",
       "      <td>NaN</td>\n",
       "    </tr>\n",
       "    <tr>\n",
       "      <th>2</th>\n",
       "      <td>Mumbai</td>\n",
       "      <td>NaN</td>\n",
       "    </tr>\n",
       "  </tbody>\n",
       "</table>\n",
       "</div>"
      ],
      "text/plain": [
       "   Lucation   Salary\n",
       "0  Banglore  78000.0\n",
       "1     Delhi      NaN\n",
       "2    Mumbai      NaN"
      ]
     },
     "execution_count": 43,
     "metadata": {},
     "output_type": "execute_result"
    }
   ],
   "source": [
    "new_data.mode()"
   ]
  },
  {
   "cell_type": "code",
   "execution_count": 44,
   "id": "e05ed4a5-e4fb-470f-89c2-f340d0854b2e",
   "metadata": {},
   "outputs": [
    {
     "data": {
      "text/plain": [
       "<bound method NDFrame.sample of      Lucation  Salary\n",
       "0      Mumbai  120000\n",
       "1       Delhi   90000\n",
       "2    Banglore   78000\n",
       "3    karnatka   82000\n",
       "4       Noida   65000\n",
       "5      Mumbai   78000\n",
       "6    Banglore   70000\n",
       "7    Gurugram   67000\n",
       "8  Faridabaad  110000\n",
       "9       Delhi   72000>"
      ]
     },
     "execution_count": 44,
     "metadata": {},
     "output_type": "execute_result"
    }
   ],
   "source": [
    "new_data.sample"
   ]
  },
  {
   "cell_type": "code",
   "execution_count": 45,
   "id": "efd75037-2452-41d3-82a7-1acd76767279",
   "metadata": {},
   "outputs": [
    {
     "data": {
      "text/plain": [
       "<Axes: >"
      ]
     },
     "execution_count": 45,
     "metadata": {},
     "output_type": "execute_result"
    },
    {
     "data": {
      "image/png": "[encoded data removed]",
      "text/plain": [
       "<Figure size 640x480 with 1 Axes>"
      ]
     },
     "metadata": {},
     "output_type": "display_data"
    }
   ],
   "source": [
    "# Now plotting the line plot \n",
    "new_data.plot(kind = 'line',color = 'g')"
   ]
  },
  {
   "cell_type": "code",
   "execution_count": 46,
   "id": "3a813b59-aa98-4d7a-bf47-3f41363e6d48",
   "metadata": {},
   "outputs": [
    {
     "data": {
      "text/plain": [
       "<Axes: >"
      ]
     },
     "execution_count": 46,
     "metadata": {},
     "output_type": "execute_result"
    },
    {
     "data": {
      "image/png": "[encoded data removed]",
      "text/plain": [
       "<Figure size 640x480 with 1 Axes>"
      ]
     },
     "metadata": {},
     "output_type": "display_data"
    }
   ],
   "source": [
    "# Bar plot\n",
    "new_data.plot(kind = 'bar', color = 'aqua')"
   ]
  },
  {
   "cell_type": "code",
   "execution_count": 47,
   "id": "efed581a-e431-4c87-b2a6-7af264a3ec55",
   "metadata": {},
   "outputs": [
    {
     "data": {
      "text/plain": [
       "<Axes: ylabel='Frequency'>"
      ]
     },
     "execution_count": 47,
     "metadata": {},
     "output_type": "execute_result"
    },
    {
     "data": {
      "image/png": "[encoded data removed]",
      "text/plain": [
       "<Figure size 640x480 with 1 Axes>"
      ]
     },
     "metadata": {},
     "output_type": "display_data"
    }
   ],
   "source": [
    "# histogram plot\n",
    "new_data.plot(kind = 'hist')"
   ]
  },
  {
   "cell_type": "code",
   "execution_count": null,
   "id": "e806c2fc-296d-4c64-ba68-9cdac512ac5e",
   "metadata": {},
   "outputs": [],
   "source": []
  }
 ],
 "metadata": {
  "kernelspec": {
   "display_name": "Python 3 (ipykernel)",
   "language": "python",
   "name": "python3"
  },
  "language_info": {
   "codemirror_mode": {
    "name": "ipython",
    "version": 3
   },
   "file_extension": ".py",
   "mimetype": "text/x-python",
   "name": "python",
   "nbconvert_exporter": "python",
   "pygments_lexer": "ipython3",
   "version": "3.12.5"
  },
  "widgets": {
   "application/vnd.jupyter.widget-state+json": {
    "state": {},
    "version_major": 2,
    "version_minor": 0
   }
  }
 },
 "nbformat": 4,
 "nbformat_minor": 5
}
